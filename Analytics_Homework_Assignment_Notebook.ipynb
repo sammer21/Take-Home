{
  "nbformat": 4,
  "nbformat_minor": 0,
  "metadata": {
    "colab": {
      "name": "Analytics Homework Assignment: Notebook.ipynb",
      "provenance": [],
      "collapsed_sections": [
        "7y5auGi-axgo",
        "MjYehOqCgKC_",
        "M989I_5TirEp",
        "s9uG3dCnaoY8",
        "L9tLfHfVas5l"
      ],
      "include_colab_link": true
    },
    "kernelspec": {
      "name": "python3",
      "display_name": "Python 3"
    }
  },
  "cells": [
    {
      "cell_type": "markdown",
      "metadata": {
        "id": "view-in-github",
        "colab_type": "text"
      },
      "source": [
        "<a href=\"https://colab.research.google.com/github/sammer21/Take-Home/blob/main/Analytics_Homework_Assignment_Notebook.ipynb\" target=\"_parent\"><img src=\"https://colab.research.google.com/assets/colab-badge.svg\" alt=\"Open In Colab\"/></a>"
      ]
    },
    {
      "cell_type": "markdown",
      "metadata": {
        "id": "r033ZTX6XYok"
      },
      "source": [
        "## **How to Use This Notebook**\n",
        "\n",
        "This document is an iPython notebook being executed within Google's Colaboratory: a product designed to facilitate the creation and sharing of data analysis projects.\n",
        "The steps below explain how to use it:\n",
        "\n",
        "1. Make a personal copy of this document by clicking \"Save a copy in Drive\" under the file menu\n",
        "2. Click the files icon in the left panel of this document.\n",
        "3. Click the upload icon and select the .csv files provided to you by the recruiter.\n",
        "4. Navigate to the section with the language you prefer to use (SQL, Python, or R) and expand it to show the hidden cells.\n",
        "5. Run the existing code by pressing [Shift] + [Enter] or by clicking the triangular run icon on each cell.\n",
        "6. Perform your analysis, adding code to your section of choice.\n",
        "7. When you're done, you may optionally delete any unused sections/cells.\n",
        "\n",
        "Good luck!"
      ]
    },
    {
      "cell_type": "markdown",
      "metadata": {
        "id": "7y5auGi-axgo"
      },
      "source": [
        "## SQL (SQLite via Python's pandasql package)"
      ]
    },
    {
      "cell_type": "markdown",
      "metadata": {
        "id": "MjYehOqCgKC_"
      },
      "source": [
        "### Setup\n",
        "\n",
        "It's okay if you are unfamiliar with scripting languages like Python.\n",
        "If that's the case, these additional instructions may prove helpful:\n",
        "\n",
        "1. You need to run the three hidden cells in this section only once during your analysis.\n",
        "2. Your query needs to be stored in a string (like the `my_query` variable below) and passed into one of the helper functions: `execute_query`, `preview_query_result`, or `save_query_result_to_csv`. You must run the cell containing these functions every time you update the query in order to see updated results.\n",
        "3. This document won't perform any syntax highlighting or text completion for you. If you would like those features, you could use a tool like https://sqliteonline.com/ and simply paste your final SQL into this document. (Alternatively, you could perform your whole analysis in another SQL tool)."
      ]
    },
    {
      "cell_type": "code",
      "metadata": {
        "colab": {
          "base_uri": "https://localhost:8080/"
        },
        "id": "AWlTElypWFsE",
        "outputId": "55864402-af82-4d33-bfbe-ab544783854a"
      },
      "source": [
        "! pip install -U pandasql"
      ],
      "execution_count": null,
      "outputs": [
        {
          "output_type": "stream",
          "text": [
            "Collecting pandasql\n",
            "  Downloading pandasql-0.7.3.tar.gz (26 kB)\n",
            "Requirement already satisfied: numpy in /usr/local/lib/python3.7/dist-packages (from pandasql) (1.19.5)\n",
            "Requirement already satisfied: pandas in /usr/local/lib/python3.7/dist-packages (from pandasql) (1.1.5)\n",
            "Requirement already satisfied: sqlalchemy in /usr/local/lib/python3.7/dist-packages (from pandasql) (1.4.20)\n",
            "Requirement already satisfied: python-dateutil>=2.7.3 in /usr/local/lib/python3.7/dist-packages (from pandas->pandasql) (2.8.1)\n",
            "Requirement already satisfied: pytz>=2017.2 in /usr/local/lib/python3.7/dist-packages (from pandas->pandasql) (2018.9)\n",
            "Requirement already satisfied: six>=1.5 in /usr/local/lib/python3.7/dist-packages (from python-dateutil>=2.7.3->pandas->pandasql) (1.15.0)\n",
            "Requirement already satisfied: importlib-metadata in /usr/local/lib/python3.7/dist-packages (from sqlalchemy->pandasql) (4.6.1)\n",
            "Requirement already satisfied: greenlet!=0.4.17 in /usr/local/lib/python3.7/dist-packages (from sqlalchemy->pandasql) (1.1.0)\n",
            "Requirement already satisfied: typing-extensions>=3.6.4 in /usr/local/lib/python3.7/dist-packages (from importlib-metadata->sqlalchemy->pandasql) (3.7.4.3)\n",
            "Requirement already satisfied: zipp>=0.5 in /usr/local/lib/python3.7/dist-packages (from importlib-metadata->sqlalchemy->pandasql) (3.5.0)\n",
            "Building wheels for collected packages: pandasql\n",
            "  Building wheel for pandasql (setup.py) ... \u001b[?25l\u001b[?25hdone\n",
            "  Created wheel for pandasql: filename=pandasql-0.7.3-py3-none-any.whl size=26782 sha256=5a65cd25a3ecae065620df0de644577f4aa87f25407d97a71eb217cabc3502d6\n",
            "  Stored in directory: /root/.cache/pip/wheels/5c/4b/ec/41f4e116c8053c3654e2c2a47c62b4fca34cc67ef7b55deb7f\n",
            "Successfully built pandasql\n",
            "Installing collected packages: pandasql\n",
            "Successfully installed pandasql-0.7.3\n"
          ],
          "name": "stdout"
        }
      ]
    },
    {
      "cell_type": "code",
      "metadata": {
        "id": "8mnmUKufFs7_"
      },
      "source": [
        "import pandas as pd\n",
        "from pandasql import sqldf\n",
        "import os"
      ],
      "execution_count": null,
      "outputs": []
    },
    {
      "cell_type": "code",
      "metadata": {
        "id": "DlHBPuugULbF"
      },
      "source": [
        "directory = \"/content/\"\n",
        "visits = pd.read_csv(os.path.join(directory, \"visits.csv\"))\n",
        "subscriptions = pd.read_csv(os.path.join(directory, \"subscriptions.csv\"))\n",
        "execute_query = lambda query: sqldf(query, globals())\n",
        "preview_query_result = lambda query: execute_query(query).head()\n",
        "save_query_result_to_csv = lambda query, path: execute_query(query).to_csv(path)"
      ],
      "execution_count": null,
      "outputs": []
    },
    {
      "cell_type": "markdown",
      "metadata": {
        "id": "M989I_5TirEp"
      },
      "source": [
        "### Example SQL"
      ]
    },
    {
      "cell_type": "code",
      "metadata": {
        "colab": {
          "base_uri": "https://localhost:8080/",
          "height": 202
        },
        "id": "V5QTa7Drb_bD",
        "outputId": "435c09b7-675f-47c5-b956-1c09a11da59e"
      },
      "source": [
        "# Example query: feel free to delete later\n",
        "my_query = \"\"\"\n",
        "select\n",
        "      region\n",
        "    , count(visit_id) as num_visits\n",
        "from visits\n",
        "where day = '2019-01-01'\n",
        "group by 1\n",
        "order by 2 desc\n",
        "\"\"\"\n",
        "execute_query(my_query)"
      ],
      "execution_count": null,
      "outputs": [
        {
          "output_type": "execute_result",
          "data": {
            "text/html": [
              "<div>\n",
              "<style scoped>\n",
              "    .dataframe tbody tr th:only-of-type {\n",
              "        vertical-align: middle;\n",
              "    }\n",
              "\n",
              "    .dataframe tbody tr th {\n",
              "        vertical-align: top;\n",
              "    }\n",
              "\n",
              "    .dataframe thead th {\n",
              "        text-align: right;\n",
              "    }\n",
              "</style>\n",
              "<table border=\"1\" class=\"dataframe\">\n",
              "  <thead>\n",
              "    <tr style=\"text-align: right;\">\n",
              "      <th></th>\n",
              "      <th>region</th>\n",
              "      <th>num_visits</th>\n",
              "    </tr>\n",
              "  </thead>\n",
              "  <tbody>\n",
              "    <tr>\n",
              "      <th>0</th>\n",
              "      <td>US/Canada</td>\n",
              "      <td>12</td>\n",
              "    </tr>\n",
              "    <tr>\n",
              "      <th>1</th>\n",
              "      <td>Asia</td>\n",
              "      <td>11</td>\n",
              "    </tr>\n",
              "    <tr>\n",
              "      <th>2</th>\n",
              "      <td>Europe, Middle East, &amp; Africa (Non-English)</td>\n",
              "      <td>8</td>\n",
              "    </tr>\n",
              "    <tr>\n",
              "      <th>3</th>\n",
              "      <td>Latin America</td>\n",
              "      <td>7</td>\n",
              "    </tr>\n",
              "    <tr>\n",
              "      <th>4</th>\n",
              "      <td>Other English-Speaking Countries</td>\n",
              "      <td>7</td>\n",
              "    </tr>\n",
              "  </tbody>\n",
              "</table>\n",
              "</div>"
            ],
            "text/plain": [
              "                                        region  num_visits\n",
              "0                                    US/Canada          12\n",
              "1                                         Asia          11\n",
              "2  Europe, Middle East, & Africa (Non-English)           8\n",
              "3                                Latin America           7\n",
              "4             Other English-Speaking Countries           7"
            ]
          },
          "metadata": {
            "tags": []
          },
          "execution_count": 4
        }
      ]
    },
    {
      "cell_type": "code",
      "metadata": {
        "colab": {
          "base_uri": "https://localhost:8080/",
          "height": 202
        },
        "id": "FRWLk6VSeBHT",
        "outputId": "8ece9108-7a64-41a8-ea0e-002d808cfbab"
      },
      "source": [
        "# You could, instead, choose to preview only 5 rows\n",
        "preview_query_result(my_query)"
      ],
      "execution_count": null,
      "outputs": [
        {
          "output_type": "execute_result",
          "data": {
            "text/html": [
              "<div>\n",
              "<style scoped>\n",
              "    .dataframe tbody tr th:only-of-type {\n",
              "        vertical-align: middle;\n",
              "    }\n",
              "\n",
              "    .dataframe tbody tr th {\n",
              "        vertical-align: top;\n",
              "    }\n",
              "\n",
              "    .dataframe thead th {\n",
              "        text-align: right;\n",
              "    }\n",
              "</style>\n",
              "<table border=\"1\" class=\"dataframe\">\n",
              "  <thead>\n",
              "    <tr style=\"text-align: right;\">\n",
              "      <th></th>\n",
              "      <th>region</th>\n",
              "      <th>num_visits</th>\n",
              "    </tr>\n",
              "  </thead>\n",
              "  <tbody>\n",
              "    <tr>\n",
              "      <th>0</th>\n",
              "      <td>US/Canada</td>\n",
              "      <td>12</td>\n",
              "    </tr>\n",
              "    <tr>\n",
              "      <th>1</th>\n",
              "      <td>Asia</td>\n",
              "      <td>11</td>\n",
              "    </tr>\n",
              "    <tr>\n",
              "      <th>2</th>\n",
              "      <td>Europe, Middle East, &amp; Africa (Non-English)</td>\n",
              "      <td>8</td>\n",
              "    </tr>\n",
              "    <tr>\n",
              "      <th>3</th>\n",
              "      <td>Latin America</td>\n",
              "      <td>7</td>\n",
              "    </tr>\n",
              "    <tr>\n",
              "      <th>4</th>\n",
              "      <td>Other English-Speaking Countries</td>\n",
              "      <td>7</td>\n",
              "    </tr>\n",
              "  </tbody>\n",
              "</table>\n",
              "</div>"
            ],
            "text/plain": [
              "                                        region  num_visits\n",
              "0                                    US/Canada          12\n",
              "1                                         Asia          11\n",
              "2  Europe, Middle East, & Africa (Non-English)           8\n",
              "3                                Latin America           7\n",
              "4             Other English-Speaking Countries           7"
            ]
          },
          "metadata": {
            "tags": []
          },
          "execution_count": 5
        }
      ]
    },
    {
      "cell_type": "code",
      "metadata": {
        "id": "kBcDK-j2dWCP"
      },
      "source": [
        "# You could also save the result to a csv\n",
        "save_query_result_to_csv(my_query, \"/content/result.csv\")\n",
        "\n",
        "# You may have to wait a minute for it to show up in the left sidebar\n",
        "# Alternatively, you could force a refresh by clicking on the dots next to the folder containing your file"
      ],
      "execution_count": null,
      "outputs": []
    },
    {
      "cell_type": "markdown",
      "metadata": {
        "id": "s9uG3dCnaoY8"
      },
      "source": [
        "## Python (subset of the SQL setup above)"
      ]
    },
    {
      "cell_type": "code",
      "metadata": {
        "id": "gE9uqooha2mR"
      },
      "source": [
        "import pandas as pd\n",
        "import os"
      ],
      "execution_count": null,
      "outputs": []
    },
    {
      "cell_type": "code",
      "metadata": {
        "id": "CnaI7xwKbK3A"
      },
      "source": [
        "directory = \"/content/\"\n",
        "visits = pd.read_csv(os.path.join(directory, \"visits.csv\"))\n",
        "subscriptions = pd.read_csv(os.path.join(directory, \"subscriptions.csv\"))"
      ],
      "execution_count": null,
      "outputs": []
    },
    {
      "cell_type": "code",
      "metadata": {
        "colab": {
          "base_uri": "https://localhost:8080/",
          "height": 285
        },
        "id": "hszqog3fb_0J",
        "outputId": "7fc5be01-e9d0-4673-e81f-dc7f3652009e"
      },
      "source": [
        "subscriptions.head()"
      ],
      "execution_count": null,
      "outputs": [
        {
          "output_type": "execute_result",
          "data": {
            "text/html": [
              "<div>\n",
              "<style scoped>\n",
              "    .dataframe tbody tr th:only-of-type {\n",
              "        vertical-align: middle;\n",
              "    }\n",
              "\n",
              "    .dataframe tbody tr th {\n",
              "        vertical-align: top;\n",
              "    }\n",
              "\n",
              "    .dataframe thead th {\n",
              "        text-align: right;\n",
              "    }\n",
              "</style>\n",
              "<table border=\"1\" class=\"dataframe\">\n",
              "  <thead>\n",
              "    <tr style=\"text-align: right;\">\n",
              "      <th></th>\n",
              "      <th>subscription_id</th>\n",
              "      <th>account_id</th>\n",
              "      <th>subscription_start_date</th>\n",
              "      <th>subscription_end_date</th>\n",
              "      <th>trial_start_date</th>\n",
              "      <th>trial_end_date</th>\n",
              "      <th>revenue</th>\n",
              "    </tr>\n",
              "  </thead>\n",
              "  <tbody>\n",
              "    <tr>\n",
              "      <th>0</th>\n",
              "      <td>96d87f27-c4e3-401e-9efd-795834b12e1b</td>\n",
              "      <td>914fddea-7a72-4712-82dd-5b4590f9b670</td>\n",
              "      <td>2019-01-08</td>\n",
              "      <td>2020-01-08</td>\n",
              "      <td>2019-01-01</td>\n",
              "      <td>2019-01-08</td>\n",
              "      <td>1016.28</td>\n",
              "    </tr>\n",
              "    <tr>\n",
              "      <th>1</th>\n",
              "      <td>91838d2f-5cc1-448c-95d2-05dce13f0090</td>\n",
              "      <td>7e6ccf6b-16e1-4ea1-9057-ead81ac1cedd</td>\n",
              "      <td>2019-01-01</td>\n",
              "      <td>2020-01-01</td>\n",
              "      <td>NaN</td>\n",
              "      <td>NaN</td>\n",
              "      <td>755.67</td>\n",
              "    </tr>\n",
              "    <tr>\n",
              "      <th>2</th>\n",
              "      <td>7cb08fd7-9440-4a17-9cbd-674954d9b1c5</td>\n",
              "      <td>f7b65b83-2e33-4926-b36a-f37fead86623</td>\n",
              "      <td>2019-01-01</td>\n",
              "      <td>2020-01-01</td>\n",
              "      <td>NaN</td>\n",
              "      <td>NaN</td>\n",
              "      <td>999.89</td>\n",
              "    </tr>\n",
              "    <tr>\n",
              "      <th>3</th>\n",
              "      <td>ab2b038d-e56c-4102-8662-dedbff889235</td>\n",
              "      <td>f9b33d91-66d1-485c-8c6e-d27bdb46d605</td>\n",
              "      <td>2019-01-08</td>\n",
              "      <td>2020-01-08</td>\n",
              "      <td>2019-01-01</td>\n",
              "      <td>2019-01-08</td>\n",
              "      <td>971.82</td>\n",
              "    </tr>\n",
              "    <tr>\n",
              "      <th>4</th>\n",
              "      <td>183c7790-06fb-40f8-acf4-f3c78db265fd</td>\n",
              "      <td>c5124861-4163-409d-a419-c87681537371</td>\n",
              "      <td>2019-01-02</td>\n",
              "      <td>2020-01-02</td>\n",
              "      <td>NaN</td>\n",
              "      <td>NaN</td>\n",
              "      <td>1280.93</td>\n",
              "    </tr>\n",
              "  </tbody>\n",
              "</table>\n",
              "</div>"
            ],
            "text/plain": [
              "                        subscription_id  ...  revenue\n",
              "0  96d87f27-c4e3-401e-9efd-795834b12e1b  ...  1016.28\n",
              "1  91838d2f-5cc1-448c-95d2-05dce13f0090  ...   755.67\n",
              "2  7cb08fd7-9440-4a17-9cbd-674954d9b1c5  ...   999.89\n",
              "3  ab2b038d-e56c-4102-8662-dedbff889235  ...   971.82\n",
              "4  183c7790-06fb-40f8-acf4-f3c78db265fd  ...  1280.93\n",
              "\n",
              "[5 rows x 7 columns]"
            ]
          },
          "metadata": {
            "tags": []
          },
          "execution_count": 9
        }
      ]
    },
    {
      "cell_type": "markdown",
      "metadata": {
        "id": "L9tLfHfVas5l"
      },
      "source": [
        "## R"
      ]
    },
    {
      "cell_type": "code",
      "metadata": {
        "id": "0ozfvrhWar3D"
      },
      "source": [
        "%load_ext rpy2.ipython"
      ],
      "execution_count": null,
      "outputs": []
    },
    {
      "cell_type": "code",
      "metadata": {
        "id": "qyNH-UbyXXzX"
      },
      "source": [
        "%%R\n",
        "setwd(\"/content/\")\n",
        "visits <- read.csv(\"visits.csv\", na.strings=\"\")\n",
        "subscriptions <- read.csv(\"subscriptions.csv\", na.strings=\"\")"
      ],
      "execution_count": null,
      "outputs": []
    },
    {
      "cell_type": "code",
      "metadata": {
        "id": "lPE9qa70b5-g",
        "colab": {
          "base_uri": "https://localhost:8080/"
        },
        "outputId": "738186f6-f786-40d4-ec7f-9d6fe502aa5d"
      },
      "source": [
        "%%R\n",
        "head(visits)"
      ],
      "execution_count": null,
      "outputs": [
        {
          "output_type": "stream",
          "text": [
            "                              visit_id                           account_id\n",
            "1 4b987205-5da4-403c-b7d4-b952db264794 914fddea-7a72-4712-82dd-5b4590f9b670\n",
            "2 93d005cd-2990-4432-ae98-bd11c9c28f63 7e6ccf6b-16e1-4ea1-9057-ead81ac1cedd\n",
            "3 0ec30176-7401-480c-8630-92da7e020a54                                 <NA>\n",
            "4 4374d20b-d6bc-4b76-9fc8-a07847af79f9                                 <NA>\n",
            "5 f64662d1-ce3f-427a-b175-55d54c123c72                                 <NA>\n",
            "6 eb594d0b-80ec-44fe-97a5-85afac3931a9                                 <NA>\n",
            "         day    region language        channel landing_page\n",
            "1 2019-01-01 US/Canada  English          video            A\n",
            "2 2019-01-01 US/Canada  English organic search            G\n",
            "3 2019-01-01 US/Canada  English organic search            E\n",
            "4 2019-01-01 US/Canada  English organic search            G\n",
            "5 2019-01-01 US/Canada  Spanish organic search            E\n",
            "6 2019-01-01 US/Canada  English organic search            D\n"
          ],
          "name": "stdout"
        }
      ]
    }
  ]
}